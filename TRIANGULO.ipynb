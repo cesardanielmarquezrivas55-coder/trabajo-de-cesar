{
  "nbformat": 4,
  "nbformat_minor": 0,
  "metadata": {
    "colab": {
      "provenance": [],
      "authorship_tag": "ABX9TyPmGbaVOYukWmzgr5fFUUNS",
      "include_colab_link": true
    },
    "kernelspec": {
      "name": "python3",
      "display_name": "Python 3"
    },
    "language_info": {
      "name": "python"
    }
  },
  "cells": [
    {
      "cell_type": "markdown",
      "metadata": {
        "id": "view-in-github",
        "colab_type": "text"
      },
      "source": [
        "<a href=\"https://colab.research.google.com/github/cesardanielmarquezrivas55-coder/trabajo-de-cesar/blob/main/TRIANGULO.ipynb\" target=\"_parent\"><img src=\"https://colab.research.google.com/assets/colab-badge.svg\" alt=\"Open In Colab\"/></a>"
      ]
    },
    {
      "cell_type": "code",
      "execution_count": 1,
      "metadata": {
        "id": "4pyzKJ1Xyy8M",
        "colab": {
          "base_uri": "https://localhost:8080/"
        },
        "outputId": "790799ea-52a8-4212-dd8e-ae30b7e59687"
      },
      "outputs": [
        {
          "output_type": "stream",
          "name": "stdout",
          "text": [
            "20 es la medida de la base del triangulo\n",
            "<bound method TRIANGULO.altura of <__main__.TRIANGULO object at 0x7e8097f78800>> es la medida de la altura del triangulo\n"
          ]
        }
      ],
      "source": [
        "class TRIANGULO():\n",
        "  Base = 20\n",
        "  altura = 15\n",
        "\n",
        "  def area(self):\n",
        "    print(f\"{self.Base} es la medida de la base del triangulo\")\n",
        "  def altura(self):\n",
        "    print(f\"{self.altura} es la medida de la altura del triangulo\")\n",
        "area = TRIANGULO()\n",
        "area.area()\n",
        "area.altura()"
      ]
    }
  ]
}